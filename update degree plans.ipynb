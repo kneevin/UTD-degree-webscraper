{
 "cells": [
  {
   "cell_type": "code",
   "execution_count": 20,
   "metadata": {},
   "outputs": [],
   "source": [
    "import pandas as pd\n",
    "import re"
   ]
  },
  {
   "cell_type": "code",
   "execution_count": 21,
   "metadata": {},
   "outputs": [],
   "source": [
    "# grabs the course code and name\n",
    "course_regex = re.compile('^(or )?(([A-Z]+) ([0-9|A-Z]+)) (.+)$') # 2nd group is always the course code"
   ]
  },
  {
   "cell_type": "code",
   "execution_count": 22,
   "metadata": {},
   "outputs": [],
   "source": [
    "main_file = 'data/DATA LABELED LINK.csv'\n",
    "main_df = pd.read_csv(main_file)"
   ]
  },
  {
   "cell_type": "code",
   "execution_count": 23,
   "metadata": {},
   "outputs": [],
   "source": [
    "degree = pd.read_csv(main_df.loc[0, 'Course File Name'], header=None)"
   ]
  },
  {
   "cell_type": "code",
   "execution_count": 33,
   "metadata": {},
   "outputs": [],
   "source": [
    "for degree in main_df['Course File Name']:\n",
    "    file_name = degree\n",
    "    # print(file_name)\n",
    "    try:\n",
    "        degree_df = pd.read_csv(file_name,header=None)\n",
    "        degree_df = degree_df.rename(columns={0:'Full Course Name'})\n",
    "        for i, c in enumerate(degree_df['Full Course Name']):\n",
    "            degree_df.loc[i, 'Course Code'] = course_regex.match(c).groups()[1]\n",
    "        degree_df.to_csv('updated ' + file_name, index=False)\n",
    "    except:\n",
    "        continue"
   ]
  },
  {
   "cell_type": "code",
   "execution_count": null,
   "metadata": {},
   "outputs": [],
   "source": []
  },
  {
   "cell_type": "code",
   "execution_count": null,
   "metadata": {},
   "outputs": [],
   "source": []
  }
 ],
 "metadata": {
  "kernelspec": {
   "display_name": "Python 3.9.7 64-bit",
   "language": "python",
   "name": "python3"
  },
  "language_info": {
   "codemirror_mode": {
    "name": "ipython",
    "version": 3
   },
   "file_extension": ".py",
   "mimetype": "text/x-python",
   "name": "python",
   "nbconvert_exporter": "python",
   "pygments_lexer": "ipython3",
   "version": "3.9.7"
  },
  "orig_nbformat": 4,
  "vscode": {
   "interpreter": {
    "hash": "b0fa6594d8f4cbf19f97940f81e996739fb7646882a419484c72d19e05852a7e"
   }
  }
 },
 "nbformat": 4,
 "nbformat_minor": 2
}
